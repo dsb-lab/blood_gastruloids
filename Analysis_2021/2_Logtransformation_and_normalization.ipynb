{
 "cells": [
  {
   "cell_type": "markdown",
   "id": "542420b5-b9e4-4d06-8f99-e8dd35dc93b6",
   "metadata": {},
   "source": [
    "In this notebook we will normalize the data to have the same number of counts for all the wells. Posterior to that, we will lognormalize. A couple of notes:\n",
    "\n",
    "1. The normalization we performed is a global scaling to the mean count per well.\n",
    "2. The log1p transformation scale the data such that the comparison between gene expression is against the log-fold changes in expression. This is an standard procedure that mitigates the orders of magnitude difference in gene expression.\n",
    "\n",
    "**As a note:** The basic metric that we will use is the correlation emtric, which is unsensitive to the scaling procedure. In this sense, we would not need the first step, however we still perform it for consistency and make it available for other metrics that may be used for robustness checks."
   ]
  },
  {
   "cell_type": "code",
   "execution_count": 1,
   "id": "e78c6c8c-0386-4fd2-9271-a4997cf4c996",
   "metadata": {},
   "outputs": [],
   "source": [
    "import scanpy as scp\n",
    "\n",
    "from parameters import *"
   ]
  },
  {
   "cell_type": "code",
   "execution_count": 2,
   "id": "884738be-022b-466e-9ecf-84997a49520b",
   "metadata": {},
   "outputs": [],
   "source": [
    "adata = scp.read(DIRECTORY+\"Results/QC.h5ad\")"
   ]
  },
  {
   "cell_type": "code",
   "execution_count": 3,
   "id": "365ebc42-0409-4ea4-88d9-c3b46ab1dbaa",
   "metadata": {},
   "outputs": [],
   "source": [
    "adata.layers[\"Raw\"] = adata.X.copy()"
   ]
  },
  {
   "cell_type": "code",
   "execution_count": 4,
   "id": "870071f4-9251-4356-9c14-4861d4c92fc2",
   "metadata": {},
   "outputs": [],
   "source": [
    "scp.pp.normalize_total(adata,target_sum=MEAN_N_COUNTS)\n",
    "scp.pp.log1p(adata)"
   ]
  },
  {
   "cell_type": "code",
   "execution_count": 5,
   "id": "185f6e5e-79f2-493c-88b6-0616a93c2339",
   "metadata": {},
   "outputs": [],
   "source": [
    "adata.write(DIRECTORY+\"Results/QC.h5ad\")"
   ]
  },
  {
   "cell_type": "code",
   "execution_count": null,
   "id": "7d5e8519-4153-4f49-b41b-54f60f9590fd",
   "metadata": {},
   "outputs": [],
   "source": []
  }
 ],
 "metadata": {
  "kernelspec": {
   "display_name": "Python 3 (ipykernel)",
   "language": "python",
   "name": "python3"
  },
  "language_info": {
   "codemirror_mode": {
    "name": "ipython",
    "version": 3
   },
   "file_extension": ".py",
   "mimetype": "text/x-python",
   "name": "python",
   "nbconvert_exporter": "python",
   "pygments_lexer": "ipython3",
   "version": "3.9.7"
  }
 },
 "nbformat": 4,
 "nbformat_minor": 5
}
