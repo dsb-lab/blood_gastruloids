{
 "cells": [
  {
   "cell_type": "markdown",
   "metadata": {},
   "source": [
    "In this script we process the raw data coming from the preprocessing to standarize the data into a working Anndata file for the rest of the analysis.\n"
   ]
  },
  {
   "cell_type": "code",
   "execution_count": 1,
   "metadata": {},
   "outputs": [],
   "source": [
    "import scanpy as scp\n",
    "import scipy.sparse as sprs\n",
    "import pandas as pd\n",
    "import warnings\n",
    "import os\n",
    "import numpy as np\n",
    "\n",
    "warnings.filterwarnings(\"ignore\")\n",
    "\n",
    "from parameters import *"
   ]
  },
  {
   "cell_type": "markdown",
   "metadata": {},
   "source": [
    "# Gastruloid\n",
    "\n",
    "In this step, we create the dataset for the AnnData format. \n",
    "\n",
    "We incorporate to the data the information coming from:\n",
    "\n",
    "1. The raw count matrix.\n",
    "2. The information coming from the flow cytometer sorting procedure."
   ]
  },
  {
   "cell_type": "code",
   "execution_count": 2,
   "metadata": {},
   "outputs": [],
   "source": [
    "genes = pd.read_csv(\"Data/Genes.csv\")\n",
    "cells = pd.read_csv(\"Data/Cells.csv\")\n",
    "m = sprs.load_npz(\"Data/count_matrix_total.npz\")\n",
    "\n",
    "#Adding plate information\n",
    "#cells[\"Plate\"] = \n",
    "\n",
    "statistics = pd.DataFrame()\n",
    "statistics.loc[0,[\"Plates\",\"Wells per plate\",\"Total Wells\"]] = [9,96,9*96]"
   ]
  },
  {
   "cell_type": "markdown",
   "metadata": {},
   "source": [
    "## Merging lanes <a name=\"Merging\"></a>\n",
    "\n",
    "In the preprocessing step, we aligned the files taking the different lanes as separated measures, however, these measures corrrespond to the cells. In this step, we unified the measures coming from different lanes measures coming from a unique well. "
   ]
  },
  {
   "cell_type": "code",
   "execution_count": 3,
   "metadata": {},
   "outputs": [],
   "source": [
    "dropIndex = [] # For dropping the index that are merged\n",
    "statistics.loc[0,\"singleLane\"] = 0\n",
    "for j,i in zip(cells[cells[\"Lane\"]==1].index,cells[cells[\"Lane\"]==1].values):\n",
    "    \n",
    "    # making the conditions to univocaly finding the cell with the other corresponding lane\n",
    "    name = i[0]\n",
    "    time = i[2]\n",
    "    condition = i[3]\n",
    "    \n",
    "    cond1 = cells[\"Cell\"] == name.replace(\"_1_\",\"_2_\")\n",
    "    cond2 = cells[\"Time\"] == time\n",
    "    cond3 = cells[\"Lane\"] == 2\n",
    "\n",
    "    cell = cells[cond1.values*cond2.values*cond3.values]\n",
    "\n",
    "    #Add the\n",
    "    if cell.shape[0] == 1:\n",
    "        m[j,:] += m[cell.index,:]\n",
    "        dropIndex.append(cell.index[0])\n",
    "    else:\n",
    "        print(name.replace(\"_1_\",\"_2_\"), \" at \", time,\"_\",condition, \" doesn't exist. We only have one lane measure of this well.\")\n",
    "        statistics.loc[0,\"singleLane\"] += 1\n",
    "\n",
    "#Drop merged cells\n",
    "cells = cells.drop(dropIndex)\n",
    "\n",
    "#Print cells that only have measures in second lane\n",
    "for j,i in zip(cells[cells[\"Lane\"]==2].index,cells[cells[\"Lane\"]==2].values):\n",
    "    name = i[0]\n",
    "    time = i[1]\n",
    "    condition = i[2]\n",
    "    print(name.replace(\"_2_\",\"_1_\"), \" at \", time,\"_\",condition, \" doesn't exist. We only have one lane measure of this well.\")\n",
    "    statistics.loc[0,\"singleLane\"] += 1\n",
    "#Change name of cells that are merged\n",
    "cells[\"Cell\"] = [i.replace(\"_1_\",\"_\").replace(\"_2_\",\"_\") for i in cells[\"Cell\"].values]\n",
    "\n",
    "#Retain only rows that correspond to merged cells\n",
    "m = m[cells.index]\n",
    "\n",
    "#Reset index of the cells\n",
    "cells.reset_index(drop=True,inplace=True)\n",
    "\n",
    "#Drop Lane information\n",
    "cells.drop(columns=\"Lane\",inplace=True)\n"
   ]
  },
  {
   "cell_type": "markdown",
   "metadata": {},
   "source": [
    "## Standarize the tags <a name=\"Standarize\"></a>\n",
    "\n",
    "We can check that in the raw data some tags have the same meaning but different nomenclature because of how they where given to the sequencing facility. We standarize the nomenclature.\n",
    "\n",
    "1. kitScal and kitscal in Condition\n",
    "2. empty and EMPTY in BiologicalSample"
   ]
  },
  {
   "cell_type": "code",
   "execution_count": 4,
   "metadata": {},
   "outputs": [
    {
     "name": "stdout",
     "output_type": "stream",
     "text": [
      "Plate :  ['P1' 'P2']\n",
      "Time :  ['216hr']\n",
      "Condition :  ['MNX1' 'EV']\n",
      "BiologicalSample :  ['1' '73' '81' '89' '2' '10' '18' '26' '34' '42' '50' '9' '58' '66' '74'\n",
      " '82' '90' '3' '11' '19' '27' '35' '17' '43' '51' '59' '67' '75' '83' '91'\n",
      " '4' '12' '20' '25' '28' '36' '44' '52' '60' '68' '76' '84' '92' '5' '33'\n",
      " '13' '21' '29' '37' '45' '53' '61' '69' '77' '85' '41' '93' '6' '14' '22'\n",
      " '30' '38' '46' '54' '62' '70' '49' '78' '86' '94' '7' '15' '23' '31' '39'\n",
      " '47' '55' '57' '63' '71' '79' '87' '95' '8' '16' '24' '32' '40' '65' '48'\n",
      " '56' '64' '72' '80' '88' 'empty']\n"
     ]
    }
   ],
   "source": [
    "for i in cells.columns[1:]:\n",
    "    print(i,\": \", cells[i].unique())"
   ]
  },
  {
   "cell_type": "code",
   "execution_count": 5,
   "metadata": {},
   "outputs": [],
   "source": [
    "cells.loc[cells[\"Condition\"]==\"kitscal\",\"Condition\"] = \"kitScal\"\n",
    "cells.loc[cells[\"BiologicalSample\"]==\"EMPTY\",\"BiologicalSample\"] = \"empty\""
   ]
  },
  {
   "cell_type": "markdown",
   "metadata": {},
   "source": [
    "Additionally, we have a few cells marked with the tag black. Those correspond to measures did no have a valid measurement in the flow cytommetry system. This correspond to confirmed doublets by the flow cytometry sorting process as can be seen in the next section."
   ]
  },
  {
   "cell_type": "code",
   "execution_count": 6,
   "metadata": {},
   "outputs": [
    {
     "data": {
      "text/html": [
       "<div>\n",
       "<style scoped>\n",
       "    .dataframe tbody tr th:only-of-type {\n",
       "        vertical-align: middle;\n",
       "    }\n",
       "\n",
       "    .dataframe tbody tr th {\n",
       "        vertical-align: top;\n",
       "    }\n",
       "\n",
       "    .dataframe thead th {\n",
       "        text-align: right;\n",
       "    }\n",
       "</style>\n",
       "<table border=\"1\" class=\"dataframe\">\n",
       "  <thead>\n",
       "    <tr style=\"text-align: right;\">\n",
       "      <th></th>\n",
       "      <th>Cell</th>\n",
       "      <th>Plate</th>\n",
       "      <th>Time</th>\n",
       "      <th>Condition</th>\n",
       "      <th>BiologicalSample</th>\n",
       "    </tr>\n",
       "  </thead>\n",
       "  <tbody>\n",
       "  </tbody>\n",
       "</table>\n",
       "</div>"
      ],
      "text/plain": [
       "Empty DataFrame\n",
       "Columns: [Cell, Plate, Time, Condition, BiologicalSample]\n",
       "Index: []"
      ]
     },
     "execution_count": 6,
     "metadata": {},
     "output_type": "execute_result"
    }
   ],
   "source": [
    "cells[cells[\"BiologicalSample\"]==\"black\"]"
   ]
  },
  {
   "cell_type": "code",
   "execution_count": 7,
   "metadata": {},
   "outputs": [
    {
     "data": {
      "text/html": [
       "<div>\n",
       "<style scoped>\n",
       "    .dataframe tbody tr th:only-of-type {\n",
       "        vertical-align: middle;\n",
       "    }\n",
       "\n",
       "    .dataframe tbody tr th {\n",
       "        vertical-align: top;\n",
       "    }\n",
       "\n",
       "    .dataframe thead th {\n",
       "        text-align: right;\n",
       "    }\n",
       "</style>\n",
       "<table border=\"1\" class=\"dataframe\">\n",
       "  <thead>\n",
       "    <tr style=\"text-align: right;\">\n",
       "      <th></th>\n",
       "      <th>Cell</th>\n",
       "      <th>Plate</th>\n",
       "      <th>Time</th>\n",
       "      <th>Condition</th>\n",
       "      <th>BiologicalSample</th>\n",
       "    </tr>\n",
       "  </thead>\n",
       "  <tbody>\n",
       "    <tr>\n",
       "      <th>0</th>\n",
       "      <td>HJCJ3DRXY_IDT-DUI-NXT-1</td>\n",
       "      <td>P1</td>\n",
       "      <td>216hr</td>\n",
       "      <td>MNX1</td>\n",
       "      <td>1</td>\n",
       "    </tr>\n",
       "    <tr>\n",
       "      <th>1</th>\n",
       "      <td>HJCJ3DRXY_IDT-DUI-NXT-10</td>\n",
       "      <td>P1</td>\n",
       "      <td>216hr</td>\n",
       "      <td>MNX1</td>\n",
       "      <td>73</td>\n",
       "    </tr>\n",
       "    <tr>\n",
       "      <th>2</th>\n",
       "      <td>HJCJ3DRXY_IDT-DUI-NXT-11</td>\n",
       "      <td>P1</td>\n",
       "      <td>216hr</td>\n",
       "      <td>MNX1</td>\n",
       "      <td>81</td>\n",
       "    </tr>\n",
       "    <tr>\n",
       "      <th>3</th>\n",
       "      <td>HJCJ3DRXY_IDT-DUI-NXT-12</td>\n",
       "      <td>P1</td>\n",
       "      <td>216hr</td>\n",
       "      <td>MNX1</td>\n",
       "      <td>89</td>\n",
       "    </tr>\n",
       "    <tr>\n",
       "      <th>4</th>\n",
       "      <td>HJCJ3DRXY_IDT-DUI-NXT-13</td>\n",
       "      <td>P1</td>\n",
       "      <td>216hr</td>\n",
       "      <td>MNX1</td>\n",
       "      <td>2</td>\n",
       "    </tr>\n",
       "    <tr>\n",
       "      <th>...</th>\n",
       "      <td>...</td>\n",
       "      <td>...</td>\n",
       "      <td>...</td>\n",
       "      <td>...</td>\n",
       "      <td>...</td>\n",
       "    </tr>\n",
       "    <tr>\n",
       "      <th>91</th>\n",
       "      <td>HJCJ3DRXY_IDT-DUI-NXT-92</td>\n",
       "      <td>P1</td>\n",
       "      <td>216hr</td>\n",
       "      <td>MNX1</td>\n",
       "      <td>64</td>\n",
       "    </tr>\n",
       "    <tr>\n",
       "      <th>92</th>\n",
       "      <td>HJCJ3DRXY_IDT-DUI-NXT-93</td>\n",
       "      <td>P1</td>\n",
       "      <td>216hr</td>\n",
       "      <td>MNX1</td>\n",
       "      <td>72</td>\n",
       "    </tr>\n",
       "    <tr>\n",
       "      <th>93</th>\n",
       "      <td>HJCJ3DRXY_IDT-DUI-NXT-94</td>\n",
       "      <td>P1</td>\n",
       "      <td>216hr</td>\n",
       "      <td>MNX1</td>\n",
       "      <td>80</td>\n",
       "    </tr>\n",
       "    <tr>\n",
       "      <th>94</th>\n",
       "      <td>HJCJ3DRXY_IDT-DUI-NXT-95</td>\n",
       "      <td>P1</td>\n",
       "      <td>216hr</td>\n",
       "      <td>MNX1</td>\n",
       "      <td>88</td>\n",
       "    </tr>\n",
       "    <tr>\n",
       "      <th>95</th>\n",
       "      <td>HJCJ3DRXY_IDT-DUI-NXT-96</td>\n",
       "      <td>P1</td>\n",
       "      <td>216hr</td>\n",
       "      <td>MNX1</td>\n",
       "      <td>empty</td>\n",
       "    </tr>\n",
       "  </tbody>\n",
       "</table>\n",
       "<p>96 rows × 5 columns</p>\n",
       "</div>"
      ],
      "text/plain": [
       "                        Cell Plate   Time Condition BiologicalSample\n",
       "0    HJCJ3DRXY_IDT-DUI-NXT-1    P1  216hr      MNX1                1\n",
       "1   HJCJ3DRXY_IDT-DUI-NXT-10    P1  216hr      MNX1               73\n",
       "2   HJCJ3DRXY_IDT-DUI-NXT-11    P1  216hr      MNX1               81\n",
       "3   HJCJ3DRXY_IDT-DUI-NXT-12    P1  216hr      MNX1               89\n",
       "4   HJCJ3DRXY_IDT-DUI-NXT-13    P1  216hr      MNX1                2\n",
       "..                       ...   ...    ...       ...              ...\n",
       "91  HJCJ3DRXY_IDT-DUI-NXT-92    P1  216hr      MNX1               64\n",
       "92  HJCJ3DRXY_IDT-DUI-NXT-93    P1  216hr      MNX1               72\n",
       "93  HJCJ3DRXY_IDT-DUI-NXT-94    P1  216hr      MNX1               80\n",
       "94  HJCJ3DRXY_IDT-DUI-NXT-95    P1  216hr      MNX1               88\n",
       "95  HJCJ3DRXY_IDT-DUI-NXT-96    P1  216hr      MNX1            empty\n",
       "\n",
       "[96 rows x 5 columns]"
      ]
     },
     "execution_count": 7,
     "metadata": {},
     "output_type": "execute_result"
    }
   ],
   "source": [
    "cells[cells[\"Condition\"]==\"MNX1\"]"
   ]
  },
  {
   "cell_type": "markdown",
   "metadata": {},
   "source": [
    "## Adding Flow cytommetry measures to data <a name=\"Add_flow\"></a>\n",
    "\n",
    "For this experimental setup, the data has been sorted to enrich for rare cells. We add the measures of the cells to the available information of the system.\n",
    "\n",
    "We check that there are wells that have flow information but there are not corresponding RNA sequenced measures.\n",
    "\n",
    "Additionally we confirm that some wells were measured more than once indicating that the well contains doublets, this where marked already by the tag **black** in biological condition."
   ]
  },
  {
   "cell_type": "code",
   "execution_count": 8,
   "metadata": {},
   "outputs": [],
   "source": [
    "# List the sorting files by plates\n",
    "plates = os.listdir(\"Data/SMARTseq\")\n",
    "#Add identifier flow cytometry file\n",
    "cells[\"Flow Cytommetry File\"] = np.NaN\n",
    "\n",
    "#Counters\n",
    "statistics.loc[0,\"doublet\"] = 0\n",
    "statistics.loc[0,\"noRNA\"] = 0\n",
    "for plate in plates:\n",
    "\n",
    "    #Load table mapping well indexes to cell indexes\n",
    "    table = pd.read_excel(\"Data/Mapping.xlsx\",sheet_name=plate).set_index(\"X1\").unstack()\n",
    "\n",
    "    #Make mapping list of cells to plates\n",
    "    mapping = {i[1]+str(i[0]):str(j).replace(\"_1_\",\"_\") for i,j in zip(table.index, table.values)}\n",
    "\n",
    "    #List and go over the sorting files splited by plate\n",
    "    for file_num,file_name in enumerate(os.listdir(\"Data/SMARTseq/\"+plate)):\n",
    "\n",
    "        #Load table of measures for the plate and\n",
    "        data = pd.read_csv(\"Data/SMARTseq/\"+plate+\"/\"+file_name,skiprows=9,decimal=\",\")\n",
    "        data.set_index(\"Well\",inplace=True)\n",
    "        \n",
    "        #Add information to the cell\n",
    "        parameters = [i for i in data.columns if \"All\" in i and \"Median\" in i and \"Time\" not in i]\n",
    "        parameters_clean = [i.split(\"Events \")[1].split(\" Median\")[0] for i in parameters]\n",
    "        \n",
    "        for i in data.index:\n",
    "                if cells[cells[\"Cell\"] == mapping[i]].shape[0] > 0:\n",
    "                    if type(cells.loc[cells[\"Cell\"] == mapping[i],\"Flow Cytommetry File\"].values[0]) == str:\n",
    "                        print(cells.loc[cells[\"Cell\"] == mapping[i]].index[0],cells.loc[cells[\"Cell\"] == mapping[i],\"Cell\"].values[0], \" is measured twice. Doublet.\")\n",
    "                        statistics.loc[0,\"doublet\"] += 1\n",
    "                    else:\n",
    "                        cells.loc[cells[\"Cell\"] == mapping[i],\"Flow Cytommetry File\"] = plate+\"_\"+str(file_num)\n",
    "                        for k,j in enumerate(parameters):\n",
    "                            cells.loc[cells[\"Cell\"] == mapping[i],parameters_clean[k]] = data.loc[i,j]\n",
    "                else:\n",
    "                    #print(plate,\" \",i, \" does not have scRNA data. Reading error.\")\n",
    "                    statistics.loc[0,\"noRNA\"] += 1\n"
   ]
  },
  {
   "cell_type": "markdown",
   "metadata": {},
   "source": [
    "Finally, we check for wells that have transcription bu do not have any flow cytometry measure. Consistently, most of them correspond to wells called as empty, except for two samples that should be filled. These wells are wells that did not have any cell deposted in them."
   ]
  },
  {
   "cell_type": "code",
   "execution_count": 9,
   "metadata": {},
   "outputs": [
    {
     "data": {
      "text/html": [
       "<div>\n",
       "<style scoped>\n",
       "    .dataframe tbody tr th:only-of-type {\n",
       "        vertical-align: middle;\n",
       "    }\n",
       "\n",
       "    .dataframe tbody tr th {\n",
       "        vertical-align: top;\n",
       "    }\n",
       "\n",
       "    .dataframe thead th {\n",
       "        text-align: right;\n",
       "    }\n",
       "</style>\n",
       "<table border=\"1\" class=\"dataframe\">\n",
       "  <thead>\n",
       "    <tr style=\"text-align: right;\">\n",
       "      <th></th>\n",
       "      <th>Cell</th>\n",
       "      <th>Plate</th>\n",
       "      <th>Time</th>\n",
       "      <th>Condition</th>\n",
       "      <th>BiologicalSample</th>\n",
       "      <th>Flow Cytommetry File</th>\n",
       "      <th>FSC-A</th>\n",
       "      <th>FSC-H</th>\n",
       "      <th>FSC-W</th>\n",
       "      <th>SSC-A</th>\n",
       "      <th>SSC-H</th>\n",
       "      <th>SSC-W</th>\n",
       "      <th>PE Dazzle 594 CD41 610/20 Y/G-A</th>\n",
       "      <th>APC CD45 660/20 Red-A</th>\n",
       "      <th>APC Cy7 cKIT 780/60 Red-A</th>\n",
       "      <th>450/40 Violet-A</th>\n",
       "      <th>LssmOrange 610/20 Violet-A</th>\n",
       "    </tr>\n",
       "  </thead>\n",
       "  <tbody>\n",
       "    <tr>\n",
       "      <th>2</th>\n",
       "      <td>HJCJ3DRXY_IDT-DUI-NXT-11</td>\n",
       "      <td>P1</td>\n",
       "      <td>216hr</td>\n",
       "      <td>MNX1</td>\n",
       "      <td>81</td>\n",
       "      <td>NaN</td>\n",
       "      <td>NaN</td>\n",
       "      <td>NaN</td>\n",
       "      <td>NaN</td>\n",
       "      <td>NaN</td>\n",
       "      <td>NaN</td>\n",
       "      <td>NaN</td>\n",
       "      <td>NaN</td>\n",
       "      <td>NaN</td>\n",
       "      <td>NaN</td>\n",
       "      <td>NaN</td>\n",
       "      <td>NaN</td>\n",
       "    </tr>\n",
       "    <tr>\n",
       "      <th>95</th>\n",
       "      <td>HJCJ3DRXY_IDT-DUI-NXT-96</td>\n",
       "      <td>P1</td>\n",
       "      <td>216hr</td>\n",
       "      <td>MNX1</td>\n",
       "      <td>empty</td>\n",
       "      <td>NaN</td>\n",
       "      <td>NaN</td>\n",
       "      <td>NaN</td>\n",
       "      <td>NaN</td>\n",
       "      <td>NaN</td>\n",
       "      <td>NaN</td>\n",
       "      <td>NaN</td>\n",
       "      <td>NaN</td>\n",
       "      <td>NaN</td>\n",
       "      <td>NaN</td>\n",
       "      <td>NaN</td>\n",
       "      <td>NaN</td>\n",
       "    </tr>\n",
       "    <tr>\n",
       "      <th>188</th>\n",
       "      <td>HTW5GDRXY_IDT-DUI-NXT-192</td>\n",
       "      <td>P2</td>\n",
       "      <td>216hr</td>\n",
       "      <td>EV</td>\n",
       "      <td>empty</td>\n",
       "      <td>NaN</td>\n",
       "      <td>NaN</td>\n",
       "      <td>NaN</td>\n",
       "      <td>NaN</td>\n",
       "      <td>NaN</td>\n",
       "      <td>NaN</td>\n",
       "      <td>NaN</td>\n",
       "      <td>NaN</td>\n",
       "      <td>NaN</td>\n",
       "      <td>NaN</td>\n",
       "      <td>NaN</td>\n",
       "      <td>NaN</td>\n",
       "    </tr>\n",
       "  </tbody>\n",
       "</table>\n",
       "</div>"
      ],
      "text/plain": [
       "                          Cell Plate   Time Condition BiologicalSample  \\\n",
       "2     HJCJ3DRXY_IDT-DUI-NXT-11    P1  216hr      MNX1               81   \n",
       "95    HJCJ3DRXY_IDT-DUI-NXT-96    P1  216hr      MNX1            empty   \n",
       "188  HTW5GDRXY_IDT-DUI-NXT-192    P2  216hr        EV            empty   \n",
       "\n",
       "    Flow Cytommetry File  FSC-A  FSC-H  FSC-W  SSC-A  SSC-H  SSC-W  \\\n",
       "2                    NaN    NaN    NaN    NaN    NaN    NaN    NaN   \n",
       "95                   NaN    NaN    NaN    NaN    NaN    NaN    NaN   \n",
       "188                  NaN    NaN    NaN    NaN    NaN    NaN    NaN   \n",
       "\n",
       "     PE Dazzle 594 CD41 610/20 Y/G-A  APC CD45 660/20 Red-A  \\\n",
       "2                                NaN                    NaN   \n",
       "95                               NaN                    NaN   \n",
       "188                              NaN                    NaN   \n",
       "\n",
       "     APC Cy7 cKIT 780/60 Red-A  450/40 Violet-A  LssmOrange 610/20 Violet-A  \n",
       "2                          NaN              NaN                         NaN  \n",
       "95                         NaN              NaN                         NaN  \n",
       "188                        NaN              NaN                         NaN  "
      ]
     },
     "execution_count": 9,
     "metadata": {},
     "output_type": "execute_result"
    }
   ],
   "source": [
    "statistics.loc[0,\"empty\"] = cells[cells[\"Flow Cytommetry File\"].isna()*cells[\"BiologicalSample\"]==\"empty\"].shape[0]\n",
    "statistics.loc[0,\"emptyWrong\"] = cells[cells[\"Flow Cytommetry File\"].isna()*np.array(cells[\"BiologicalSample\"]!=\"empty\")].shape[0]\n",
    "\n",
    "cells[cells[\"Flow Cytommetry File\"].isna()]"
   ]
  },
  {
   "cell_type": "markdown",
   "metadata": {},
   "source": [
    "## Statistics, create Annotated data file and save <a name=\"Statistics\"></a>\n",
    "\n",
    "We will save the data of the files with non-zero RNA sample measures but we will keep those measures that contain doublets and empty well for now so they appear in the QC check."
   ]
  },
  {
   "cell_type": "code",
   "execution_count": 10,
   "metadata": {},
   "outputs": [],
   "source": [
    "percentage = 0\n",
    "percentage += statistics.loc[0,\"singleLane\"]\n",
    "percentage += statistics.loc[0,\"doublet\"]\n",
    "percentage += statistics.loc[0,\"noRNA\"]\n",
    "percentage += statistics.loc[0,\"noRNA\"]\n",
    "percentage += statistics.loc[0,\"noRNA\"]\n",
    "statistics.loc[0,\"wells with bad samples\"] = percentage\n",
    "statistics.loc[0,\"wells with good samples\"] = statistics.loc[0,\"Total Wells\"]-percentage\n",
    "statistics.loc[0,\"% wells with bad samples\"] = statistics.loc[0,\"wells with bad samples\"]*100/statistics.loc[0,\"Total Wells\"]\n",
    "statistics.loc[0,\"% wells with good samples\"] = statistics.loc[0,\"wells with good samples\"]*100/statistics.loc[0,\"Total Wells\"]"
   ]
  },
  {
   "cell_type": "code",
   "execution_count": 11,
   "metadata": {},
   "outputs": [
    {
     "data": {
      "text/html": [
       "<div>\n",
       "<style scoped>\n",
       "    .dataframe tbody tr th:only-of-type {\n",
       "        vertical-align: middle;\n",
       "    }\n",
       "\n",
       "    .dataframe tbody tr th {\n",
       "        vertical-align: top;\n",
       "    }\n",
       "\n",
       "    .dataframe thead th {\n",
       "        text-align: right;\n",
       "    }\n",
       "</style>\n",
       "<table border=\"1\" class=\"dataframe\">\n",
       "  <thead>\n",
       "    <tr style=\"text-align: right;\">\n",
       "      <th></th>\n",
       "      <th>Plates</th>\n",
       "      <th>Wells per plate</th>\n",
       "      <th>Total Wells</th>\n",
       "      <th>singleLane</th>\n",
       "      <th>doublet</th>\n",
       "      <th>noRNA</th>\n",
       "      <th>empty</th>\n",
       "      <th>emptyWrong</th>\n",
       "      <th>wells with bad samples</th>\n",
       "      <th>wells with good samples</th>\n",
       "      <th>% wells with bad samples</th>\n",
       "      <th>% wells with good samples</th>\n",
       "    </tr>\n",
       "  </thead>\n",
       "  <tbody>\n",
       "    <tr>\n",
       "      <th>0</th>\n",
       "      <td>9.0</td>\n",
       "      <td>96.0</td>\n",
       "      <td>864.0</td>\n",
       "      <td>0.0</td>\n",
       "      <td>0.0</td>\n",
       "      <td>1.0</td>\n",
       "      <td>2.0</td>\n",
       "      <td>1.0</td>\n",
       "      <td>3.0</td>\n",
       "      <td>861.0</td>\n",
       "      <td>0.347222</td>\n",
       "      <td>99.652778</td>\n",
       "    </tr>\n",
       "  </tbody>\n",
       "</table>\n",
       "</div>"
      ],
      "text/plain": [
       "   Plates  Wells per plate  Total Wells  singleLane  doublet  noRNA  empty  \\\n",
       "0     9.0             96.0        864.0         0.0      0.0    1.0    2.0   \n",
       "\n",
       "   emptyWrong  wells with bad samples  wells with good samples  \\\n",
       "0         1.0                     3.0                    861.0   \n",
       "\n",
       "   % wells with bad samples  % wells with good samples  \n",
       "0                  0.347222                  99.652778  "
      ]
     },
     "execution_count": 11,
     "metadata": {},
     "output_type": "execute_result"
    }
   ],
   "source": [
    "statistics"
   ]
  },
  {
   "cell_type": "code",
   "execution_count": 12,
   "metadata": {},
   "outputs": [],
   "source": [
    "#Create the Annotated data\n",
    "adata = scp.AnnData(m,obs=cells,var=genes.set_index(\"gene_id\"))"
   ]
  },
  {
   "cell_type": "code",
   "execution_count": 13,
   "metadata": {},
   "outputs": [
    {
     "name": "stderr",
     "output_type": "stream",
     "text": [
      "... storing 'Plate' as categorical\n",
      "... storing 'Time' as categorical\n",
      "... storing 'Condition' as categorical\n",
      "... storing 'BiologicalSample' as categorical\n",
      "... storing 'Flow Cytommetry File' as categorical\n",
      "... storing 'gene_name' as categorical\n"
     ]
    }
   ],
   "source": [
    "adata.write(\"Data/Raw.h5ad\")"
   ]
  },
  {
   "cell_type": "code",
   "execution_count": null,
   "metadata": {},
   "outputs": [],
   "source": []
  }
 ],
 "metadata": {
  "interpreter": {
   "hash": "e7370f93d1d0cde622a1f8e1c04877d8463912d04d973331ad4851f04de6915a"
  },
  "kernelspec": {
   "display_name": "Python 3 (ipykernel)",
   "language": "python",
   "name": "python3"
  },
  "language_info": {
   "codemirror_mode": {
    "name": "ipython",
    "version": 3
   },
   "file_extension": ".py",
   "mimetype": "text/x-python",
   "name": "python",
   "nbconvert_exporter": "python",
   "pygments_lexer": "ipython3",
   "version": "3.9.7"
  },
  "toc-autonumbering": true,
  "toc-showcode": false,
  "toc-showmarkdowntxt": false,
  "toc-showtags": false
 },
 "nbformat": 4,
 "nbformat_minor": 4
}
