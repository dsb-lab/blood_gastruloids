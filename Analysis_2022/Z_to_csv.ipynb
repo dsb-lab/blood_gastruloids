{
 "cells": [
  {
   "cell_type": "code",
   "execution_count": 1,
   "id": "62518b81-45d7-47ca-867c-ae4668171b35",
   "metadata": {},
   "outputs": [],
   "source": [
    "import scanpy as scp\n",
    "import scipy.sparse as sprs\n",
    "import pandas as pd\n",
    "import warnings\n",
    "import os\n",
    "import numpy as np\n",
    "\n",
    "warnings.filterwarnings(\"ignore\")\n",
    "\n",
    "from parameters import *"
   ]
  },
  {
   "cell_type": "code",
   "execution_count": 2,
   "id": "1616cbc0-4f73-4eef-990b-f42e7af11a55",
   "metadata": {},
   "outputs": [],
   "source": [
    "adataRaw = scp.read(\"Data/Raw.h5ad\")"
   ]
  },
  {
   "cell_type": "markdown",
   "id": "22b7e758-b1fb-4ce6-8b51-d066564525cd",
   "metadata": {},
   "source": [
    "# Counts"
   ]
  },
  {
   "cell_type": "code",
   "execution_count": 3,
   "id": "bc249a79-3215-4655-8089-9c97874114ca",
   "metadata": {},
   "outputs": [],
   "source": [
    "d = pd.DataFrame(np.array(adataRaw.X.todense()))\n",
    "d.to_csv(DIRECTORY+\"Results/Counts_2022.csv\")"
   ]
  },
  {
   "cell_type": "markdown",
   "id": "d95672d8-08af-4078-9d19-6e2332a50227",
   "metadata": {},
   "source": [
    "# Metadata"
   ]
  },
  {
   "cell_type": "code",
   "execution_count": 4,
   "id": "6514438f-f9f2-441b-87d4-5a85e8c6d104",
   "metadata": {},
   "outputs": [],
   "source": [
    "metadataRaw = adataRaw.obs"
   ]
  },
  {
   "cell_type": "code",
   "execution_count": 5,
   "id": "4b6d3161-d49e-4173-a86a-ccb4a6ddd611",
   "metadata": {},
   "outputs": [],
   "source": [
    "metadata = scp.read(\"Analysis_Main/Results/QC.h5ad\").obs\n",
    "metadaCondition = []\n",
    "for condition in metadata[\"Condition\"].unique():\n",
    "    metadaCondition.append(scp.read(\"Analysis_Main/Results/QC_\"+condition+\".h5ad\").obs)"
   ]
  },
  {
   "cell_type": "code",
   "execution_count": 6,
   "id": "b573f4d0-4919-4b98-9901-690e3af1e996",
   "metadata": {},
   "outputs": [],
   "source": [
    "X_umap = scp.read(\"Analysis_Main/Results/QC.h5ad\").obsm[\"X_umap\"]\n",
    "X_umap_condition = []\n",
    "for condition in metadata[\"Condition\"].unique():\n",
    "    X_umap_condition.append(scp.read(\"Analysis_Main/Results/QC_\"+condition+\".h5ad\").obsm[\"X_pca\"])"
   ]
  },
  {
   "cell_type": "code",
   "execution_count": 7,
   "id": "898c3854-a4dd-47f0-ad13-1c24e16a117e",
   "metadata": {},
   "outputs": [],
   "source": [
    "X_pca = scp.read(\"Analysis_Main/Results/QC.h5ad\").obsm[\"X_pca\"]\n",
    "X_pca_condition = []\n",
    "for condition in metadata[\"Condition\"].unique():\n",
    "    X_pca_condition.append(scp.read(\"Analysis_Main/Results/QC_\"+condition+\".h5ad\").obsm[\"X_pca\"])"
   ]
  },
  {
   "cell_type": "code",
   "execution_count": 8,
   "id": "c39c789b-3d7e-42ba-8ec4-df5265057c4b",
   "metadata": {},
   "outputs": [],
   "source": [
    "metadataRaw[\"QC_passed\"] = False\n",
    "metadataRaw.loc[metadata.index,\"QC_passed\"] = True\n",
    "metadataRaw.loc[metadata.index,\"leiden\"] = metadata.loc[:,\"leiden\"]\n",
    "for condition in metadaCondition:\n",
    "    metadataRaw.loc[condition.index,\"leiden_by_condition\"] = condition.loc[:,\"leiden\"]\n",
    "    \n",
    "for i in range(2):\n",
    "    metadataRaw.loc[metadata.index,\"X_umap_\"+str(i)] = X_umap[:,i]\n",
    "for condition,umap in zip(metadaCondition,X_umap_condition):\n",
    "    for i in range(2):\n",
    "        metadataRaw.loc[condition.index,\"X_umap_by_condition_\"+str(i)] = umap[:,i]\n",
    "        \n",
    "for i in range(PCA):\n",
    "    metadataRaw.loc[metadata.index,\"X_pca_\"+str(i)] = X_pca[:,i]\n",
    "for condition,umap in zip(metadaCondition,X_pca_condition):\n",
    "    for i in range(PCA_CONDITION):\n",
    "        metadataRaw.loc[condition.index,\"X_pca_by_condition_\"+str(i)] = umap[:,i]"
   ]
  },
  {
   "cell_type": "code",
   "execution_count": 9,
   "id": "7acbfbaa-3f2b-401c-9a1a-cf044adad768",
   "metadata": {},
   "outputs": [],
   "source": [
    "metadataRaw.to_csv(DIRECTORY+\"Results/Cells_2022.csv\")"
   ]
  },
  {
   "cell_type": "markdown",
   "id": "c3493436-ee38-4b40-a885-58031b8491cc",
   "metadata": {},
   "source": [
    "# Metadata genes"
   ]
  },
  {
   "cell_type": "code",
   "execution_count": 10,
   "id": "bae831bb-6809-4792-b50a-a1ffd93708ae",
   "metadata": {},
   "outputs": [],
   "source": [
    "genes = scp.read(\"Data/Raw.h5ad\").var.drop(\"Unnamed: 0\",axis=1).reset_index()"
   ]
  },
  {
   "cell_type": "code",
   "execution_count": 11,
   "id": "9bad4609-1416-4664-9ff6-bc9422a03141",
   "metadata": {},
   "outputs": [],
   "source": [
    "genes.to_csv(DIRECTORY+\"Results/Genes_2022.csv\")"
   ]
  },
  {
   "cell_type": "code",
   "execution_count": null,
   "id": "2cbc62b5-46be-4672-a81c-af741ae09aa6",
   "metadata": {},
   "outputs": [],
   "source": []
  }
 ],
 "metadata": {
  "kernelspec": {
   "display_name": "Python 3 (ipykernel)",
   "language": "python",
   "name": "python3"
  },
  "language_info": {
   "codemirror_mode": {
    "name": "ipython",
    "version": 3
   },
   "file_extension": ".py",
   "mimetype": "text/x-python",
   "name": "python",
   "nbconvert_exporter": "python",
   "pygments_lexer": "ipython3",
   "version": "3.9.7"
  }
 },
 "nbformat": 4,
 "nbformat_minor": 5
}
